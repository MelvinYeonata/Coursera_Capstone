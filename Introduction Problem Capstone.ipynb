{
 "cells": [
  {
   "cell_type": "markdown",
   "metadata": {},
   "source": [
    "## Introduction/Business Problem"
   ]
  },
  {
   "cell_type": "markdown",
   "metadata": {},
   "source": [
    "Let us assume that we are currently working as a data scientist for hotel Kempinski in Jakarta, Indonesia. Our stakeholders or the hotel owner would like us to find out how many malls are located around the hotel's area. Specifically Central Jakarta district."
   ]
  },
  {
   "cell_type": "markdown",
   "metadata": {},
   "source": [
    "The reason our stakeholder wants to find out is to promote the hotel for its strategic location where tourists would enjoy shopping during their visit in the capital city."
   ]
  },
  {
   "cell_type": "markdown",
   "metadata": {},
   "source": [
    "Our main objective is to find out the total number of malls around Hotel Kempinski. Identify each one of them and provide important details such as tips, ratings, trending venues and pin-point each of their location."
   ]
  }
 ],
 "metadata": {
  "kernelspec": {
   "display_name": "Python 3",
   "language": "python",
   "name": "python3"
  },
  "language_info": {
   "codemirror_mode": {
    "name": "ipython",
    "version": 3
   },
   "file_extension": ".py",
   "mimetype": "text/x-python",
   "name": "python",
   "nbconvert_exporter": "python",
   "pygments_lexer": "ipython3",
   "version": "3.7.3"
  }
 },
 "nbformat": 4,
 "nbformat_minor": 2
}
