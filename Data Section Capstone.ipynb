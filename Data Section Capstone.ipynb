{
 "cells": [
  {
   "cell_type": "markdown",
   "metadata": {},
   "source": [
    "# Data Section of Capstone Project"
   ]
  },
  {
   "cell_type": "markdown",
   "metadata": {},
   "source": [
    "This is the methodology part of finding the malls around Park Central Hotel New York."
   ]
  },
  {
   "cell_type": "markdown",
   "metadata": {},
   "source": [
    "We will employ Foursquare API with Python to find out all the malls around Park Central Hotel New York."
   ]
  },
  {
   "cell_type": "markdown",
   "metadata": {},
   "source": [
    "By using Foursquare API search function, we will then explore the given venue which is Park Central Hotel New York and specifically search for malls in the specified region. We are likely to make multiple calls to retreive multiple venues and obtaining user tips, trends and photos of the location where available."
   ]
  },
  {
   "cell_type": "markdown",
   "metadata": {},
   "source": [
    "A map will be generated around Park Central Hotel New York to display the malls nearby and their exact locations. Using all the information that we have found, we will then create a recommendation of the identified malls near the hotel for hotel customer's use to find places to do their shopping."
   ]
  },
  {
   "cell_type": "markdown",
   "metadata": {},
   "source": [
    "For example, once we have identified mall A - we will gather all information regarding its exact location, user tips, trends and photos of the mall. If we manage to gather information of the popular shops/vanues in each mall, it will help with the recommendation of the place."
   ]
  }
 ],
 "metadata": {
  "kernelspec": {
   "display_name": "Python 3",
   "language": "python",
   "name": "python3"
  },
  "language_info": {
   "codemirror_mode": {
    "name": "ipython",
    "version": 3
   },
   "file_extension": ".py",
   "mimetype": "text/x-python",
   "name": "python",
   "nbconvert_exporter": "python",
   "pygments_lexer": "ipython3",
   "version": "3.7.3"
  }
 },
 "nbformat": 4,
 "nbformat_minor": 2
}
